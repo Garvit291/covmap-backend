{
 "cells": [
  {
   "cell_type": "code",
   "execution_count": 1,
   "metadata": {},
   "outputs": [],
   "source": [
    "import json, pandas as pd\n",
    "from pandas.io.json import json_normalize"
   ]
  },
  {
   "cell_type": "code",
   "execution_count": 2,
   "metadata": {},
   "outputs": [],
   "source": [
    "df=pd.read_csv(\"PincodeData/all_india_PO_list_without_APS_offices_ver2_lat_long.csv\") "
   ]
  },
  {
   "cell_type": "code",
   "execution_count": 3,
   "metadata": {},
   "outputs": [],
   "source": [
    "testCen= pd.read_json ('TestingCentres/data.json')"
   ]
  },
  {
   "cell_type": "code",
   "execution_count": 4,
   "metadata": {},
   "outputs": [],
   "source": [
    "testCen = json_normalize(testCen[\"items\"])"
   ]
  },
  {
   "cell_type": "code",
   "execution_count": 18,
   "metadata": {},
   "outputs": [],
   "source": [
    "testCen.to_csv ('TestingCentres/data.csv', index = None)"
   ]
  },
  {
   "cell_type": "code",
   "execution_count": 19,
   "metadata": {},
   "outputs": [],
   "source": [
    "testCen.rename(columns = {'lat':'latitude', 'lng':'longitude'}, inplace = True) "
   ]
  },
  {
   "cell_type": "code",
   "execution_count": 32,
   "metadata": {},
   "outputs": [],
   "source": [
    "def diff(row):\n",
    "    return 'g' if row.catid&1 else 'p'"
   ]
  },
  {
   "cell_type": "code",
   "execution_count": 33,
   "metadata": {},
   "outputs": [],
   "source": [
    "testCen['status'] =testCen.apply(diff, axis = 1)"
   ]
  },
  {
   "cell_type": "code",
   "execution_count": 35,
   "metadata": {},
   "outputs": [],
   "source": [
    "del testCen['multimedia']\n",
    "del testCen['catid']\n",
    "del testCen['readmore']"
   ]
  },
  {
   "cell_type": "code",
   "execution_count": 78,
   "metadata": {},
   "outputs": [
    {
     "data": {
      "text/plain": [
       "148949    South Andaman\n",
       "148956    South Andaman\n",
       "148963    South Andaman\n",
       "148968    South Andaman\n",
       "148972    South Andaman\n",
       "148991    South Andaman\n",
       "149001    South Andaman\n",
       "149022    South Andaman\n",
       "149037    South Andaman\n",
       "149040    South Andaman\n",
       "Name: Districtname, dtype: object"
      ]
     },
     "execution_count": 78,
     "metadata": {},
     "output_type": "execute_result"
    }
   ],
   "source": [
    "df[df['pincode']==744103][\"Districtname\"]"
   ]
  },
  {
   "cell_type": "code",
   "execution_count": 91,
   "metadata": {},
   "outputs": [],
   "source": [
    "# def getDistrictByPin(row):\n",
    "#     district=list(set(df[df['pincode']==int(row.zip)][\"Districtname\"]))\n",
    "#     print(row.zip,district)\n",
    "#     if district:\n",
    "#         return district[0]\n",
    "#     else:\n",
    "#         return 0"
   ]
  },
  {
   "cell_type": "code",
   "execution_count": 93,
   "metadata": {},
   "outputs": [],
   "source": [
    "# testCen['district'] =testCen.apply(getDistrictByPin, axis = 1)"
   ]
  },
  {
   "cell_type": "code",
   "execution_count": 101,
   "metadata": {},
   "outputs": [],
   "source": []
  },
  {
   "cell_type": "code",
   "execution_count": 120,
   "metadata": {},
   "outputs": [],
   "source": [
    "testCen.at[14,'zip']=800001\n",
    "testCen.at[130,'zip']=400012\n",
    "testCen.at[314,'zip']=639001\n",
    "testCen.at[499,'zip']=752050\n",
    "testCen.at[1383,'zip']=421103\n",
    "testCen.at[1396,'zip']=570002\n",
    "testCen.at[1457,'zip']=799114\n"
   ]
  },
  {
   "cell_type": "code",
   "execution_count": 133,
   "metadata": {},
   "outputs": [],
   "source": [
    "count=0\n",
    "district=[]\n",
    "for z in testCen['zip']:\n",
    "    z=str(z)\n",
    "    z=\"\".join(z.split())\n",
    "    d=list(set(df[df['pincode']==int(z)][\"Districtname\"]))\n",
    "    if d:\n",
    "        district.append(d[0])\n",
    "    else:\n",
    "        district.append(\"\")\n",
    "    count+=1"
   ]
  },
  {
   "cell_type": "code",
   "execution_count": null,
   "metadata": {},
   "outputs": [],
   "source": []
  },
  {
   "cell_type": "code",
   "execution_count": 135,
   "metadata": {},
   "outputs": [],
   "source": [
    "testCen['district'] =district"
   ]
  },
  {
   "cell_type": "code",
   "execution_count": null,
   "metadata": {},
   "outputs": [],
   "source": []
  },
  {
   "cell_type": "code",
   "execution_count": 5,
   "metadata": {},
   "outputs": [],
   "source": [
    "testCen.to_csv ('TestingCentres/data.csv', index = None)"
   ]
  },
  {
   "cell_type": "code",
   "execution_count": null,
   "metadata": {},
   "outputs": [],
   "source": []
  }
 ],
 "metadata": {
  "kernelspec": {
   "display_name": "Python 3",
   "language": "python",
   "name": "python3"
  },
  "language_info": {
   "codemirror_mode": {
    "name": "ipython",
    "version": 3
   },
   "file_extension": ".py",
   "mimetype": "text/x-python",
   "name": "python",
   "nbconvert_exporter": "python",
   "pygments_lexer": "ipython3",
   "version": "3.7.4"
  }
 },
 "nbformat": 4,
 "nbformat_minor": 4
}
