{
 "cells": [
  {
   "cell_type": "code",
   "execution_count": 1,
   "metadata": {},
   "outputs": [],
   "source": [
    "import psycopg2\n",
    "import requests"
   ]
  },
  {
   "cell_type": "code",
   "execution_count": 2,
   "metadata": {},
   "outputs": [],
   "source": [
    "from jsonpath_ng import jsonpath,parse"
   ]
  },
  {
   "cell_type": "code",
   "execution_count": 3,
   "metadata": {},
   "outputs": [],
   "source": [
    "session=requests.session()"
   ]
  },
  {
   "cell_type": "code",
   "execution_count": 4,
   "metadata": {},
   "outputs": [],
   "source": [
    "dataJsonURL=\"https://api.covid19india.org/v4/data.json\"\n",
    "stateWiseJsonURL=\"https://api.covid19india.org/state_district_wise.json\""
   ]
  },
  {
   "cell_type": "code",
   "execution_count": 5,
   "metadata": {
    "tags": []
   },
   "outputs": [
    {
     "output_type": "stream",
     "name": "stdout",
     "text": "{'user': 'postgres', 'dbname': 'covmap', 'host': '127.0.0.1', 'port': '5432', 'tty': '', 'options': '', 'sslmode': 'prefer', 'sslcompression': '0', 'krbsrvname': 'postgres', 'target_session_attrs': 'any'} \n\nYou are connected to -  ('PostgreSQL 12.4, compiled by Visual C++ build 1914, 64-bit',) \n\n"
    }
   ],
   "source": [
    "try:\n",
    "    connection = psycopg2.connect(user = \"postgres\",\n",
    "                                  password = \"telelab\",\n",
    "                                  host = \"127.0.0.1\",\n",
    "                                  port = \"5432\",\n",
    "                                  database = \"covmap\")\n",
    "\n",
    "    cursor = connection.cursor()\n",
    "    # Print PostgreSQL Connection properties\n",
    "    print ( connection.get_dsn_parameters(),\"\\n\")\n",
    "\n",
    "    # Print PostgreSQL version\n",
    "    cursor.execute(\"SELECT version();\")\n",
    "    record = cursor.fetchone()\n",
    "    print(\"You are connected to - \", record,\"\\n\")\n",
    "\n",
    "except:\n",
    "    print(\"ERROR\")"
   ]
  },
  {
   "cell_type": "code",
   "execution_count": 28,
   "metadata": {},
   "outputs": [],
   "source": [
    "dataStateWise=session.get(stateWiseJsonURL)\n",
    "dataV4=session.get(dataJsonURL)"
   ]
  },
  {
   "cell_type": "code",
   "execution_count": 10,
   "metadata": {},
   "outputs": [],
   "source": [
    "import pandas as pd"
   ]
  },
  {
   "cell_type": "code",
   "execution_count": 38,
   "metadata": {},
   "outputs": [],
   "source": [
    "query='SELECT engtype_1,state,statecode from public.\"IND_STATES2\"'"
   ]
  },
  {
   "cell_type": "code",
   "execution_count": 39,
   "metadata": {},
   "outputs": [],
   "source": [
    "outputquery = \"COPY ({0}) TO STDOUT WITH CSV HEADER\".format(query)"
   ]
  },
  {
   "cell_type": "code",
   "execution_count": 40,
   "metadata": {},
   "outputs": [],
   "source": [
    "with open('statesList', 'w') as f:\n",
    "    cursor.copy_expert(outputquery, f)\n"
   ]
  },
  {
   "cell_type": "code",
   "execution_count": 19,
   "metadata": {},
   "outputs": [],
   "source": [
    "districtList=pd.read_csv('districtList.csv')"
   ]
  },
  {
   "cell_type": "code",
   "execution_count": 20,
   "metadata": {},
   "outputs": [
    {
     "output_type": "execute_result",
     "data": {
      "text/plain": "    engtype_2         district                state statecode\n0    District    east_godavari       andhra_pradesh        AD\n1    District  nicobar_islands  andaman_and_nicobar        AN\n2    District           guntur       andhra_pradesh        AD\n3    District        karimganj                assam        AS\n4    District          krishna       andhra_pradesh        AD\n..        ...              ...                  ...       ...\n686  District           amethi        uttar_pradesh        UP\n687  District           amroha        uttar_pradesh        UP\n688  District              mau        uttar_pradesh        UP\n689  District          sambhal        uttar_pradesh        UP\n690  District       vijayapura            karnataka        KA\n\n[691 rows x 4 columns]",
      "text/html": "<div>\n<style scoped>\n    .dataframe tbody tr th:only-of-type {\n        vertical-align: middle;\n    }\n\n    .dataframe tbody tr th {\n        vertical-align: top;\n    }\n\n    .dataframe thead th {\n        text-align: right;\n    }\n</style>\n<table border=\"1\" class=\"dataframe\">\n  <thead>\n    <tr style=\"text-align: right;\">\n      <th></th>\n      <th>engtype_2</th>\n      <th>district</th>\n      <th>state</th>\n      <th>statecode</th>\n    </tr>\n  </thead>\n  <tbody>\n    <tr>\n      <th>0</th>\n      <td>District</td>\n      <td>east_godavari</td>\n      <td>andhra_pradesh</td>\n      <td>AD</td>\n    </tr>\n    <tr>\n      <th>1</th>\n      <td>District</td>\n      <td>nicobar_islands</td>\n      <td>andaman_and_nicobar</td>\n      <td>AN</td>\n    </tr>\n    <tr>\n      <th>2</th>\n      <td>District</td>\n      <td>guntur</td>\n      <td>andhra_pradesh</td>\n      <td>AD</td>\n    </tr>\n    <tr>\n      <th>3</th>\n      <td>District</td>\n      <td>karimganj</td>\n      <td>assam</td>\n      <td>AS</td>\n    </tr>\n    <tr>\n      <th>4</th>\n      <td>District</td>\n      <td>krishna</td>\n      <td>andhra_pradesh</td>\n      <td>AD</td>\n    </tr>\n    <tr>\n      <th>...</th>\n      <td>...</td>\n      <td>...</td>\n      <td>...</td>\n      <td>...</td>\n    </tr>\n    <tr>\n      <th>686</th>\n      <td>District</td>\n      <td>amethi</td>\n      <td>uttar_pradesh</td>\n      <td>UP</td>\n    </tr>\n    <tr>\n      <th>687</th>\n      <td>District</td>\n      <td>amroha</td>\n      <td>uttar_pradesh</td>\n      <td>UP</td>\n    </tr>\n    <tr>\n      <th>688</th>\n      <td>District</td>\n      <td>mau</td>\n      <td>uttar_pradesh</td>\n      <td>UP</td>\n    </tr>\n    <tr>\n      <th>689</th>\n      <td>District</td>\n      <td>sambhal</td>\n      <td>uttar_pradesh</td>\n      <td>UP</td>\n    </tr>\n    <tr>\n      <th>690</th>\n      <td>District</td>\n      <td>vijayapura</td>\n      <td>karnataka</td>\n      <td>KA</td>\n    </tr>\n  </tbody>\n</table>\n<p>691 rows × 4 columns</p>\n</div>"
     },
     "metadata": {},
     "execution_count": 20
    }
   ],
   "source": [
    "districtList"
   ]
  },
  {
   "cell_type": "code",
   "execution_count": 21,
   "metadata": {},
   "outputs": [],
   "source": [
    "apiList=pd.read_csv('apilist.csv')"
   ]
  },
  {
   "cell_type": "code",
   "execution_count": 22,
   "metadata": {},
   "outputs": [
    {
     "output_type": "execute_result",
     "data": {
      "text/plain": "     covid19Name      apiName\n0       Adilabad     adilabad\n1     Agar Malwa   agar_malwa\n2           Agra         agra\n3      Ahmedabad    ahmadabad\n4     Ahmednagar   ahmadnagar\n..           ...          ...\n724       Yadgir       yadgir\n725  Yamunanagar  yamunanagar\n726        Yanam        yanam\n727     Yavatmal     yavatmal\n728    Zunheboto    zunheboto\n\n[729 rows x 2 columns]",
      "text/html": "<div>\n<style scoped>\n    .dataframe tbody tr th:only-of-type {\n        vertical-align: middle;\n    }\n\n    .dataframe tbody tr th {\n        vertical-align: top;\n    }\n\n    .dataframe thead th {\n        text-align: right;\n    }\n</style>\n<table border=\"1\" class=\"dataframe\">\n  <thead>\n    <tr style=\"text-align: right;\">\n      <th></th>\n      <th>covid19Name</th>\n      <th>apiName</th>\n    </tr>\n  </thead>\n  <tbody>\n    <tr>\n      <th>0</th>\n      <td>Adilabad</td>\n      <td>adilabad</td>\n    </tr>\n    <tr>\n      <th>1</th>\n      <td>Agar Malwa</td>\n      <td>agar_malwa</td>\n    </tr>\n    <tr>\n      <th>2</th>\n      <td>Agra</td>\n      <td>agra</td>\n    </tr>\n    <tr>\n      <th>3</th>\n      <td>Ahmedabad</td>\n      <td>ahmadabad</td>\n    </tr>\n    <tr>\n      <th>4</th>\n      <td>Ahmednagar</td>\n      <td>ahmadnagar</td>\n    </tr>\n    <tr>\n      <th>...</th>\n      <td>...</td>\n      <td>...</td>\n    </tr>\n    <tr>\n      <th>724</th>\n      <td>Yadgir</td>\n      <td>yadgir</td>\n    </tr>\n    <tr>\n      <th>725</th>\n      <td>Yamunanagar</td>\n      <td>yamunanagar</td>\n    </tr>\n    <tr>\n      <th>726</th>\n      <td>Yanam</td>\n      <td>yanam</td>\n    </tr>\n    <tr>\n      <th>727</th>\n      <td>Yavatmal</td>\n      <td>yavatmal</td>\n    </tr>\n    <tr>\n      <th>728</th>\n      <td>Zunheboto</td>\n      <td>zunheboto</td>\n    </tr>\n  </tbody>\n</table>\n<p>729 rows × 2 columns</p>\n</div>"
     },
     "metadata": {},
     "execution_count": 22
    }
   ],
   "source": [
    "apiList"
   ]
  },
  {
   "cell_type": "code",
   "execution_count": 24,
   "metadata": {},
   "outputs": [],
   "source": [
    "df_merge_difkey = pd.merge(districtList, apiList, left_on='district', right_on='apiName')"
   ]
  },
  {
   "cell_type": "code",
   "execution_count": 25,
   "metadata": {},
   "outputs": [
    {
     "output_type": "execute_result",
     "data": {
      "text/plain": "    engtype_2         district                state statecode    covid19Name  \\\n0    District    east_godavari       andhra_pradesh        AD  East Godavari   \n1    District  nicobar_islands  andaman_and_nicobar        AN       Nicobars   \n2    District           guntur       andhra_pradesh        AD         Guntur   \n3    District        karimganj                assam        AS      Karimganj   \n4    District          krishna       andhra_pradesh        AD        Krishna   \n..        ...              ...                  ...       ...            ...   \n729  District            y_s_r       andhra_pradesh        AD  Y.S.R. Kadapa   \n730  District           amethi        uttar_pradesh        UP         Amethi   \n731  District           amroha        uttar_pradesh        UP         Amroha   \n732  District              mau        uttar_pradesh        UP            Mau   \n733  District          sambhal        uttar_pradesh        UP        Sambhal   \n\n             apiName  \n0      east_godavari  \n1    nicobar_islands  \n2             guntur  \n3          karimganj  \n4            krishna  \n..               ...  \n729            y_s_r  \n730           amethi  \n731           amroha  \n732              mau  \n733          sambhal  \n\n[734 rows x 6 columns]",
      "text/html": "<div>\n<style scoped>\n    .dataframe tbody tr th:only-of-type {\n        vertical-align: middle;\n    }\n\n    .dataframe tbody tr th {\n        vertical-align: top;\n    }\n\n    .dataframe thead th {\n        text-align: right;\n    }\n</style>\n<table border=\"1\" class=\"dataframe\">\n  <thead>\n    <tr style=\"text-align: right;\">\n      <th></th>\n      <th>engtype_2</th>\n      <th>district</th>\n      <th>state</th>\n      <th>statecode</th>\n      <th>covid19Name</th>\n      <th>apiName</th>\n    </tr>\n  </thead>\n  <tbody>\n    <tr>\n      <th>0</th>\n      <td>District</td>\n      <td>east_godavari</td>\n      <td>andhra_pradesh</td>\n      <td>AD</td>\n      <td>East Godavari</td>\n      <td>east_godavari</td>\n    </tr>\n    <tr>\n      <th>1</th>\n      <td>District</td>\n      <td>nicobar_islands</td>\n      <td>andaman_and_nicobar</td>\n      <td>AN</td>\n      <td>Nicobars</td>\n      <td>nicobar_islands</td>\n    </tr>\n    <tr>\n      <th>2</th>\n      <td>District</td>\n      <td>guntur</td>\n      <td>andhra_pradesh</td>\n      <td>AD</td>\n      <td>Guntur</td>\n      <td>guntur</td>\n    </tr>\n    <tr>\n      <th>3</th>\n      <td>District</td>\n      <td>karimganj</td>\n      <td>assam</td>\n      <td>AS</td>\n      <td>Karimganj</td>\n      <td>karimganj</td>\n    </tr>\n    <tr>\n      <th>4</th>\n      <td>District</td>\n      <td>krishna</td>\n      <td>andhra_pradesh</td>\n      <td>AD</td>\n      <td>Krishna</td>\n      <td>krishna</td>\n    </tr>\n    <tr>\n      <th>...</th>\n      <td>...</td>\n      <td>...</td>\n      <td>...</td>\n      <td>...</td>\n      <td>...</td>\n      <td>...</td>\n    </tr>\n    <tr>\n      <th>729</th>\n      <td>District</td>\n      <td>y_s_r</td>\n      <td>andhra_pradesh</td>\n      <td>AD</td>\n      <td>Y.S.R. Kadapa</td>\n      <td>y_s_r</td>\n    </tr>\n    <tr>\n      <th>730</th>\n      <td>District</td>\n      <td>amethi</td>\n      <td>uttar_pradesh</td>\n      <td>UP</td>\n      <td>Amethi</td>\n      <td>amethi</td>\n    </tr>\n    <tr>\n      <th>731</th>\n      <td>District</td>\n      <td>amroha</td>\n      <td>uttar_pradesh</td>\n      <td>UP</td>\n      <td>Amroha</td>\n      <td>amroha</td>\n    </tr>\n    <tr>\n      <th>732</th>\n      <td>District</td>\n      <td>mau</td>\n      <td>uttar_pradesh</td>\n      <td>UP</td>\n      <td>Mau</td>\n      <td>mau</td>\n    </tr>\n    <tr>\n      <th>733</th>\n      <td>District</td>\n      <td>sambhal</td>\n      <td>uttar_pradesh</td>\n      <td>UP</td>\n      <td>Sambhal</td>\n      <td>sambhal</td>\n    </tr>\n  </tbody>\n</table>\n<p>734 rows × 6 columns</p>\n</div>"
     },
     "metadata": {},
     "execution_count": 25
    }
   ],
   "source": [
    "df_merge_difkey"
   ]
  },
  {
   "cell_type": "code",
   "execution_count": 26,
   "metadata": {},
   "outputs": [],
   "source": [
    "df_merge_difkey.to_csv ('finalList.csv', index = None)"
   ]
  },
  {
   "cell_type": "code",
   "execution_count": 37,
   "metadata": {
    "tags": []
   },
   "outputs": [],
   "source": [
    "# for s in dataStateWise.json().keys():\n",
    "    # print(s+',')"
   ]
  },
  {
   "cell_type": "code",
   "execution_count": null,
   "metadata": {},
   "outputs": [],
   "source": [
    "outputquery = \"COPY ({0}) TO STDOUT WITH CSV HEADER\".format(query)"
   ]
  },
  {
   "cell_type": "code",
   "execution_count": 44,
   "metadata": {},
   "outputs": [],
   "source": [
    "finalList=pd.read_csv('finalList.csv')"
   ]
  },
  {
   "cell_type": "code",
   "execution_count": 49,
   "metadata": {},
   "outputs": [],
   "source": [
    "def replac(row):\n",
    "    if row.type==\"District\":\n",
    "        return \"d\"\n",
    "    if row.type==\"State\":\n",
    "        return \"s\"\n",
    "    return \"u\""
   ]
  },
  {
   "cell_type": "code",
   "execution_count": 50,
   "metadata": {},
   "outputs": [],
   "source": [
    "finalList[\"type\"]=finalList.apply(replac,axis=1)"
   ]
  },
  {
   "cell_type": "code",
   "execution_count": 52,
   "metadata": {},
   "outputs": [],
   "source": [
    "finalList.to_csv('finalList.csv',index=None)"
   ]
  },
  {
   "cell_type": "code",
   "execution_count": null,
   "metadata": {},
   "outputs": [],
   "source": []
  }
 ],
 "metadata": {
  "kernelspec": {
   "name": "python_defaultSpec_1598790212562",
   "display_name": "Python 3.7.9 64-bit"
  }
 },
 "nbformat": 4,
 "nbformat_minor": 2
}