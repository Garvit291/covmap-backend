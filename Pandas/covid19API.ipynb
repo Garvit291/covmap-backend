{
 "cells": [
  {
   "cell_type": "code",
   "execution_count": 1,
   "metadata": {},
   "outputs": [],
   "source": [
    "import requests"
   ]
  },
  {
   "cell_type": "code",
   "execution_count": 2,
   "metadata": {},
   "outputs": [],
   "source": [
    "def get_state_total_wDistricts(state):\n",
    "    total=0\n",
    "    data=requests.get('https://api.covid19india.org/state_district_wise.json')\n",
    "    data=data.json()\n",
    "    STATE=''\n",
    "    dat=[]\n",
    "    for x,y in data.items():\n",
    "        for district in y['districtData']:\n",
    "            if x==state:\n",
    "                STATE=STATE+district+\" : \" + str(data[x]['districtData'][district]['confirmed']) +\"\\n\"\n",
    "                Number=(data[x]['districtData'][district]['confirmed'])\n",
    "                total=total+Number\n",
    "    dat.append(STATE)\n",
    "    dat.append(total)\n",
    "    return dat"
   ]
  },
  {
   "cell_type": "code",
   "execution_count": 5,
   "metadata": {},
   "outputs": [],
   "source": [
    "resp=get_state_total_wDistricts('Haryana')"
   ]
  },
  {
   "cell_type": "code",
   "execution_count": 6,
   "metadata": {},
   "outputs": [
    {
     "name": "stdout",
     "output_type": "stream",
     "text": [
      "Foreign Evacuees : 0\n",
      "Ambala : 3430\n",
      "Bhiwani : 1246\n",
      "Charkhi Dadri : 266\n",
      "Faridabad : 12189\n",
      "Fatehabad : 830\n",
      "Gurugram : 11443\n",
      "Hisar : 1982\n",
      "Italians : 0\n",
      "Jhajjar : 1142\n",
      "Jind : 533\n",
      "Kaithal : 891\n",
      "Karnal : 2373\n",
      "Kurukshetra : 1496\n",
      "Mahendragarh : 1564\n",
      "Nuh : 711\n",
      "Palwal : 1440\n",
      "Panchkula : 1923\n",
      "Panipat : 3228\n",
      "Rewari : 3277\n",
      "Rohtak : 2774\n",
      "Sirsa : 1166\n",
      "Sonipat : 4076\n",
      "Yamunanagar : 1318\n",
      "\n",
      "59298\n"
     ]
    }
   ],
   "source": [
    "for _ in resp:\n",
    "    print(_)"
   ]
  },
  {
   "cell_type": "code",
   "execution_count": 7,
   "metadata": {},
   "outputs": [],
   "source": [
    "def rootnetCountry():\n",
    "    url='https://api.rootnet.in/covid19-in/stats/latest'\n",
    "    data=requests.get(url)\n",
    "    res=[]\n",
    "    pos=0\n",
    "    cur=0\n",
    "    deaths=0\n",
    "    data=data.json()\n",
    "    pos=int(data['data']['summary']['confirmedCasesIndian'])+int(data['data']['summary']['confirmedCasesForeign'])\n",
    "    cur=int(data['data']['summary']['discharged'])\n",
    "    deaths=int(data['data']['summary']['deaths'])\n",
    "    res.append(pos)\n",
    "    res.append(cur)\n",
    "    res.append(deaths)\n",
    "    return res"
   ]
  },
  {
   "cell_type": "code",
   "execution_count": 8,
   "metadata": {},
   "outputs": [
    {
     "data": {
      "text/plain": [
       "[3310234, 2523771, 60472]"
      ]
     },
     "execution_count": 8,
     "metadata": {},
     "output_type": "execute_result"
    }
   ],
   "source": [
    "rootnetCountry()"
   ]
  },
  {
   "cell_type": "code",
   "execution_count": 9,
   "metadata": {},
   "outputs": [],
   "source": [
    "def get_state_total(state):\n",
    "    total=0\n",
    "    data=requests.get('https://api.covid19india.org/state_district_wise.json')\n",
    "    data=data.json()\n",
    "    for x,y in data.items():\n",
    "        for district in y['districtData']:\n",
    "            if x==state:\n",
    "                Number=(data[x]['districtData'][district]['confirmed'])\n",
    "                total=total+Number\n",
    "    return total"
   ]
  },
  {
   "cell_type": "code",
   "execution_count": 10,
   "metadata": {},
   "outputs": [
    {
     "data": {
      "text/plain": [
       "59298"
      ]
     },
     "execution_count": 10,
     "metadata": {},
     "output_type": "execute_result"
    }
   ],
   "source": [
    "get_state_total(\"Haryana\")"
   ]
  },
  {
   "cell_type": "code",
   "execution_count": 15,
   "metadata": {},
   "outputs": [],
   "source": [
    "def get_stats_total():\n",
    "    total=0\n",
    "    data=requests.get('https://api.covid19india.org/state_district_wise.json')\n",
    "    data=data.json()\n",
    "    for x,y in data.items():\n",
    "        for district in y['districtData']:\n",
    "            if x!='Unknown':\n",
    "                Number=(data[x]['districtData'][district]['confirmed'])\n",
    "                total=total+Number\n",
    "    return total"
   ]
  },
  {
   "cell_type": "code",
   "execution_count": 16,
   "metadata": {},
   "outputs": [
    {
     "data": {
      "text/plain": [
       "3383517"
      ]
     },
     "execution_count": 16,
     "metadata": {},
     "output_type": "execute_result"
    }
   ],
   "source": [
    "get_stats_total()"
   ]
  },
  {
   "cell_type": "code",
   "execution_count": null,
   "metadata": {},
   "outputs": [],
   "source": []
  }
 ],
 "metadata": {
  "kernelspec": {
   "display_name": "Python 3",
   "language": "python",
   "name": "python3"
  },
  "language_info": {
   "codemirror_mode": {
    "name": "ipython",
    "version": 3
   },
   "file_extension": ".py",
   "mimetype": "text/x-python",
   "name": "python",
   "nbconvert_exporter": "python",
   "pygments_lexer": "ipython3",
   "version": "3.7.4"
  }
 },
 "nbformat": 4,
 "nbformat_minor": 4
}
