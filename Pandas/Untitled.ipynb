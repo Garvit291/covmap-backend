{
 "cells": [
  {
   "cell_type": "code",
   "execution_count": 1,
   "metadata": {},
   "outputs": [],
   "source": [
    "def getAllSubstrings(s, n):   \n",
    "    for i in range(n): \n",
    "        temp=\"\"\n",
    "        for j in range(i,n): \n",
    "            temp+=s[j]\n",
    "            yield(temp)"
   ]
  },
  {
   "cell_type": "code",
   "execution_count": 6,
   "metadata": {},
   "outputs": [
    {
     "name": "stdout",
     "output_type": "stream",
     "text": [
      "1\n",
      "12\n",
      "123\n",
      "1234\n",
      "2\n",
      "23\n",
      "234\n",
      "3\n",
      "34\n",
      "4\n"
     ]
    }
   ],
   "source": [
    "input1=\"1234\"\n",
    "input2=30\n",
    "input3=4\n",
    "count=0\n",
    "for i in getAllSubstrings(input1,input3):\n",
    "    print(i)\n",
    "    if int(i)<=input2:\n",
    "        count+=1\n",
    "#         print(i)\n",
    "# print(count)"
   ]
  },
  {
   "cell_type": "code",
   "execution_count": 7,
   "metadata": {},
   "outputs": [],
   "source": [
    "from itertools import permutations"
   ]
  },
  {
   "cell_type": "code",
   "execution_count": 10,
   "metadata": {},
   "outputs": [
    {
     "name": "stdout",
     "output_type": "stream",
     "text": [
      "(8,)\n",
      "(9,)\n"
     ]
    }
   ],
   "source": [
    "for p in permutations([8,9],1):\n",
    "    print(p)"
   ]
  },
  {
   "cell_type": "code",
   "execution_count": null,
   "metadata": {},
   "outputs": [],
   "source": []
  }
 ],
 "metadata": {
  "kernelspec": {
   "display_name": "Python 3",
   "language": "python",
   "name": "python3"
  },
  "language_info": {
   "codemirror_mode": {
    "name": "ipython",
    "version": 3
   },
   "file_extension": ".py",
   "mimetype": "text/x-python",
   "name": "python",
   "nbconvert_exporter": "python",
   "pygments_lexer": "ipython3",
   "version": "3.7.4"
  }
 },
 "nbformat": 4,
 "nbformat_minor": 4
}
